{
 "cells": [
  {
   "cell_type": "markdown",
   "metadata": {},
   "source": [
    "우선 그래프를 그려보기 위해 matplotlib와 numpy Interpreter를 불러온다"
   ]
  },
  {
   "cell_type": "code",
   "execution_count": 1,
   "metadata": {},
   "outputs": [],
   "source": [
    "# import matplotlib.pyplot as plt\n",
    "from matplotlib.colors import LogNorm\n",
    "from mpl_toolkits.mplot3d import Axes3D\n",
    "from matplotlib import cm\n",
    "import numpy as np\n"
   ]
  },
  {
   "cell_type": "markdown",
   "metadata": {},
   "source": [
    "3D 그림을 불러오기 위한 function을 만든다."
   ]
  },
  {
   "cell_type": "code",
   "execution_count": 2,
   "metadata": {},
   "outputs": [],
   "source": [
    "def plot_surface(x, y, z, azim=-60, elev=40, dist=10, cmap=\"RdYlBu_r\"):\n",
    "    fig = plt.figure()\n",
    "    ax = fig.add_subplot(111, projection='3d')\n",
    "    plot_args = {'rstride': 1, 'cstride': 1, 'cmap': cmap, 'linewidth': 20, 'antialiased': True, 'vmin': -2, 'vmax': 2}\n",
    "    ax.plot_surface(x, y, z, **plot_args)\n",
    "    ax.view_init(azim=azim, elev=elev)\n",
    "    ax.dist = dist\n",
    "    ax.set_xlim(-1, 1)\n",
    "    ax.set_ylim(-1, 1)\n",
    "    ax.set_zlim(-2, 2)\n",
    "    plt.xticks([-1, -0.5, 0, 0.5, 1],\n",
    "               [r\"$-1$\", r\"$-1/2$\", r\"$0$\", r\"$1/2$\", r\"$1$\"])\n",
    "    plt.yticks([-1, -0.5, 0, 0.5, 1],\n",
    "               [r\"$-1$\", r\"$-1/2$\", r\"$0$\", r\"$1/2$\", r\"$1$\"])\n",
    "    ax.set_zticks([-2, -1, 0, 1, 2])\n",
    "    ax.set_zticklabels([r\"$-2$\", r\"$-1$\", r\"$0$\", r\"$1$\", r\"$2$\"])\n",
    "    ax.w_xaxis.set_pane_color((1.0, 1.0, 1.0, 0.0))\n",
    "    ax.w_yaxis.set_pane_color((1.0, 1.0, 1.0, 0.0))\n",
    "    ax.w_zaxis.set_pane_color((1.0, 1.0, 1.0, 0.0))\n",
    "    ax.set_xlabel(r\"$x$\", fontsize=18)\n",
    "    ax.set_ylabel(r\"$y$\", fontsize=18)\n",
    "    ax.set_zlabel(r\"z\", fontsize=18)\n",
    "    return fig, ax;"
   ]
  },
  {
   "cell_type": "markdown",
   "metadata": {},
   "source": [
    "-1에서 1까지의 X와 Y의 grid를 생성한다."
   ]
  },
  {
   "cell_type": "code",
   "execution_count": null,
   "metadata": {},
   "outputs": [],
   "source": [
    "x, y = np.mgrid[-1:1:31j, -1:1:31j]"
   ]
  },
  {
   "cell_type": "markdown",
   "metadata": {},
   "source": []
  }
 ],
 "metadata": {
  "kernelspec": {
   "display_name": "Python 3",
   "language": "python",
   "name": "python3"
  },
  "language_info": {
   "codemirror_mode": {
    "name": "ipython",
    "version": 3
   },
   "file_extension": ".py",
   "mimetype": "text/x-python",
   "name": "python",
   "nbconvert_exporter": "python",
   "pygments_lexer": "ipython3",
   "version": "3.6.5"
  }
 },
 "nbformat": 4,
 "nbformat_minor": 2
}
